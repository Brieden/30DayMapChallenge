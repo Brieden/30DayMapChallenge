{
 "cells": [
  {
   "cell_type": "code",
   "execution_count": 4,
   "metadata": {},
   "outputs": [],
   "source": [
    "import json\n",
    "from OSMPythonTools.nominatim import Nominatim\n",
    "from OSMPythonTools.overpass import overpassQueryBuilder, Overpass\n",
    "import pandas as pd\n",
    "import geopandas as gpd\n",
    "pd.set_option('display.max_columns', None)\n",
    "pd.set_option('display.max_rows', None)"
   ]
  },
  {
   "cell_type": "markdown",
   "metadata": {},
   "source": [
    "# Config analysis"
   ]
  },
  {
   "cell_type": "code",
   "execution_count": 5,
   "metadata": {},
   "outputs": [],
   "source": [
    "area_of_interest = 'Zürich'\n",
    "geojson_output_path = 'geojsons/day_5_osm_dogmap.geojson'\n",
    "snapshot_output_path = 'snapshots/day_5_osm_dogmap.json'"
   ]
  },
  {
   "cell_type": "markdown",
   "metadata": {},
   "source": [
    "# Request OSM Data"
   ]
  },
  {
   "cell_type": "code",
   "execution_count": 6,
   "metadata": {},
   "outputs": [
    {
     "name": "stderr",
     "output_type": "stream",
     "text": [
      "[nominatim] downloading data: search\n"
     ]
    }
   ],
   "source": [
    "nominatim = Nominatim()\n",
    "areaId = nominatim.query(area_of_interest).areaId()"
   ]
  },
  {
   "cell_type": "markdown",
   "metadata": {},
   "source": [
    "### Find trees"
   ]
  },
  {
   "cell_type": "code",
   "execution_count": 7,
   "metadata": {},
   "outputs": [
    {
     "name": "stderr",
     "output_type": "stream",
     "text": [
      "[overpass] downloading data: [timeout:25][out:json];area(3601682248)->.searchArea;(node[\"natural\"=\"tree\"](area.searchArea);); out body;\n"
     ]
    },
    {
     "data": {
      "text/plain": [
       "10280"
      ]
     },
     "execution_count": 7,
     "metadata": {},
     "output_type": "execute_result"
    }
   ],
   "source": [
    "overpass = Overpass()\n",
    "trees_query = overpassQueryBuilder(area=areaId, elementType='node', selector='\"natural\"=\"tree\"', out='body')\n",
    "trees_result = overpass.query(trees_query)\n",
    "trees_result.countElements()"
   ]
  },
  {
   "cell_type": "code",
   "execution_count": 8,
   "metadata": {},
   "outputs": [],
   "source": [
    "trees_tags, trees_lats, trees_lons = [], [], []\n",
    "for tree_result in trees_result.elements():\n",
    "    trees_lats.append(tree_result.lat())\n",
    "    trees_lons.append(tree_result.lon())\n",
    "    tree_tags_list = []\n",
    "    for tag in tree_result.tags():\n",
    "        if tag != 'natural':\n",
    "            tree_tags_list.append(f'{tag}: {tree_result.tags()[tag]}')\n",
    "    tree_tag = ', '.join(tree_tags_list)\n",
    "    trees_tags.append({'Tags': tree_tag})"
   ]
  },
  {
   "cell_type": "code",
   "execution_count": 9,
   "metadata": {},
   "outputs": [
    {
     "data": {
      "text/html": [
       "<div>\n",
       "<style scoped>\n",
       "    .dataframe tbody tr th:only-of-type {\n",
       "        vertical-align: middle;\n",
       "    }\n",
       "\n",
       "    .dataframe tbody tr th {\n",
       "        vertical-align: top;\n",
       "    }\n",
       "\n",
       "    .dataframe thead th {\n",
       "        text-align: right;\n",
       "    }\n",
       "</style>\n",
       "<table border=\"1\" class=\"dataframe\">\n",
       "  <thead>\n",
       "    <tr style=\"text-align: right;\">\n",
       "      <th></th>\n",
       "      <th>Tags</th>\n",
       "      <th>geometry</th>\n",
       "    </tr>\n",
       "  </thead>\n",
       "  <tbody>\n",
       "    <tr>\n",
       "      <th>0</th>\n",
       "      <td>diameter: 15 m, leaf_type: broadleaved, source...</td>\n",
       "      <td>POINT (8.52580 47.36506)</td>\n",
       "    </tr>\n",
       "    <tr>\n",
       "      <th>1</th>\n",
       "      <td></td>\n",
       "      <td>POINT (8.52839 47.37263)</td>\n",
       "    </tr>\n",
       "  </tbody>\n",
       "</table>\n",
       "</div>"
      ],
      "text/plain": [
       "                                                Tags                  geometry\n",
       "0  diameter: 15 m, leaf_type: broadleaved, source...  POINT (8.52580 47.36506)\n",
       "1                                                     POINT (8.52839 47.37263)"
      ]
     },
     "execution_count": 9,
     "metadata": {},
     "output_type": "execute_result"
    }
   ],
   "source": [
    "trees_gpd = gpd.GeoDataFrame(pd.DataFrame(trees_tags), geometry=gpd.points_from_xy(trees_lons, trees_lats), crs='EPSG:4326')\n",
    "trees_gpd.head(2)"
   ]
  },
  {
   "cell_type": "markdown",
   "metadata": {},
   "source": [
    "## Find fountains"
   ]
  },
  {
   "cell_type": "code",
   "execution_count": 10,
   "metadata": {},
   "outputs": [
    {
     "name": "stderr",
     "output_type": "stream",
     "text": [
      "[overpass] downloading data: [timeout:25][out:json];area(3601682248)->.searchArea;(node[\"amenity\"=\"drinking_water\"](area.searchArea);); out body;\n"
     ]
    },
    {
     "data": {
      "text/plain": [
       "949"
      ]
     },
     "execution_count": 10,
     "metadata": {},
     "output_type": "execute_result"
    }
   ],
   "source": [
    "drinking_water_query = overpassQueryBuilder(area=areaId, elementType='node', selector='\"amenity\"=\"drinking_water\"', out='body')\n",
    "drinking_water_result = overpass.query(drinking_water_query)\n",
    "drinking_water_result.countElements()"
   ]
  },
  {
   "cell_type": "code",
   "execution_count": 11,
   "metadata": {},
   "outputs": [],
   "source": [
    "drinking_water_tags, drinking_water_lats, drinking_water_lons = [], [], []\n",
    "for drinking_water_result in drinking_water_result.elements():\n",
    "    drinking_water_lats.append(drinking_water_result.lat())\n",
    "    drinking_water_lons.append(drinking_water_result.lon())\n",
    "    drinking_water_tag = None\n",
    "    for tag in drinking_water_result.tags():\n",
    "        if tag != 'amenity':\n",
    "            drinking_water_tag = ', '.join(filter(None, (drinking_water_tag, f'{tag}: {drinking_water_result.tags()[tag]}')))\n",
    "    drinking_water_tags.append({'Tags': drinking_water_tag})"
   ]
  },
  {
   "cell_type": "code",
   "execution_count": 12,
   "metadata": {},
   "outputs": [
    {
     "data": {
      "text/html": [
       "<div>\n",
       "<style scoped>\n",
       "    .dataframe tbody tr th:only-of-type {\n",
       "        vertical-align: middle;\n",
       "    }\n",
       "\n",
       "    .dataframe tbody tr th {\n",
       "        vertical-align: top;\n",
       "    }\n",
       "\n",
       "    .dataframe thead th {\n",
       "        text-align: right;\n",
       "    }\n",
       "</style>\n",
       "<table border=\"1\" class=\"dataframe\">\n",
       "  <thead>\n",
       "    <tr style=\"text-align: right;\">\n",
       "      <th></th>\n",
       "      <th>Tags</th>\n",
       "      <th>geometry</th>\n",
       "    </tr>\n",
       "  </thead>\n",
       "  <tbody>\n",
       "    <tr>\n",
       "      <th>0</th>\n",
       "      <td>bottle: yes, dog: yes, drinking_water:descript...</td>\n",
       "      <td>POINT (8.54128 47.41353)</td>\n",
       "    </tr>\n",
       "    <tr>\n",
       "      <th>1</th>\n",
       "      <td>artist_name: Hans Jakob Meyer, bottle: yes, do...</td>\n",
       "      <td>POINT (8.49994 47.40283)</td>\n",
       "    </tr>\n",
       "  </tbody>\n",
       "</table>\n",
       "</div>"
      ],
      "text/plain": [
       "                                                Tags                  geometry\n",
       "0  bottle: yes, dog: yes, drinking_water:descript...  POINT (8.54128 47.41353)\n",
       "1  artist_name: Hans Jakob Meyer, bottle: yes, do...  POINT (8.49994 47.40283)"
      ]
     },
     "execution_count": 12,
     "metadata": {},
     "output_type": "execute_result"
    }
   ],
   "source": [
    "drinking_water_gpd = gpd.GeoDataFrame(pd.DataFrame(drinking_water_tags), geometry=gpd.points_from_xy(drinking_water_lons, drinking_water_lats), crs='EPSG:4326')\n",
    "drinking_water_gpd.head(2)"
   ]
  },
  {
   "cell_type": "markdown",
   "metadata": {},
   "source": [
    "## Find excrement bags"
   ]
  },
  {
   "cell_type": "code",
   "execution_count": 13,
   "metadata": {},
   "outputs": [
    {
     "name": "stderr",
     "output_type": "stream",
     "text": [
      "[overpass] downloading data: [timeout:25][out:json];area(3601682248)->.searchArea;(node[vending=excrement_bags](area.searchArea);); out body;\n"
     ]
    },
    {
     "data": {
      "text/plain": [
       "114"
      ]
     },
     "execution_count": 13,
     "metadata": {},
     "output_type": "execute_result"
    }
   ],
   "source": [
    "excrement_bags_query = overpassQueryBuilder(area=areaId, elementType='node', selector='vending=excrement_bags', out='body')\n",
    "excrement_bags_result = overpass.query(excrement_bags_query)\n",
    "excrement_bags_result.countElements()"
   ]
  },
  {
   "cell_type": "code",
   "execution_count": 14,
   "metadata": {},
   "outputs": [],
   "source": [
    "excrement_bags_tags, excrement_bags_lats, excrement_bags_lons = [], [], []\n",
    "for excrement_bags_result in excrement_bags_result.elements():\n",
    "    excrement_bags_lats.append(excrement_bags_result.lat())\n",
    "    excrement_bags_lons.append(excrement_bags_result.lon())\n",
    "    excrement_bags_tag = None\n",
    "    for tag in excrement_bags_result.tags():\n",
    "        if tag != 'amenity':\n",
    "            excrement_bags_tag = ', '.join(filter(None, (excrement_bags_tag, f'{tag}: {excrement_bags_result.tags()[tag]}')))\n",
    "    excrement_bags_tags.append({'Tags': excrement_bags_tag})"
   ]
  },
  {
   "cell_type": "code",
   "execution_count": 15,
   "metadata": {},
   "outputs": [
    {
     "data": {
      "text/html": [
       "<div>\n",
       "<style scoped>\n",
       "    .dataframe tbody tr th:only-of-type {\n",
       "        vertical-align: middle;\n",
       "    }\n",
       "\n",
       "    .dataframe tbody tr th {\n",
       "        vertical-align: top;\n",
       "    }\n",
       "\n",
       "    .dataframe thead th {\n",
       "        text-align: right;\n",
       "    }\n",
       "</style>\n",
       "<table border=\"1\" class=\"dataframe\">\n",
       "  <thead>\n",
       "    <tr style=\"text-align: right;\">\n",
       "      <th></th>\n",
       "      <th>Tags</th>\n",
       "      <th>geometry</th>\n",
       "    </tr>\n",
       "  </thead>\n",
       "  <tbody>\n",
       "    <tr>\n",
       "      <th>0</th>\n",
       "      <td>bottle: yes, dog: yes, drinking_water:descript...</td>\n",
       "      <td>POINT (8.54128 47.41353)</td>\n",
       "    </tr>\n",
       "    <tr>\n",
       "      <th>1</th>\n",
       "      <td>artist_name: Hans Jakob Meyer, bottle: yes, do...</td>\n",
       "      <td>POINT (8.49994 47.40283)</td>\n",
       "    </tr>\n",
       "  </tbody>\n",
       "</table>\n",
       "</div>"
      ],
      "text/plain": [
       "                                                Tags                  geometry\n",
       "0  bottle: yes, dog: yes, drinking_water:descript...  POINT (8.54128 47.41353)\n",
       "1  artist_name: Hans Jakob Meyer, bottle: yes, do...  POINT (8.49994 47.40283)"
      ]
     },
     "execution_count": 15,
     "metadata": {},
     "output_type": "execute_result"
    }
   ],
   "source": [
    "excrement_bags_gpd = gpd.GeoDataFrame(pd.DataFrame(excrement_bags_tags), geometry=gpd.points_from_xy(excrement_bags_lons, excrement_bags_lats), crs='EPSG:4326')\n",
    "drinking_water_gpd.head(2)"
   ]
  },
  {
   "cell_type": "markdown",
   "metadata": {},
   "source": [
    "# Style maps"
   ]
  },
  {
   "cell_type": "code",
   "execution_count": 16,
   "metadata": {},
   "outputs": [
    {
     "data": {
      "text/plain": [
       "(8.457003199999999, 8.616633, 47.31683189, 47.43665731)"
      ]
     },
     "execution_count": 16,
     "metadata": {},
     "output_type": "execute_result"
    },
    {
     "data": {
      "image/png": "[encoded data removed]",
      "text/plain": [
       "<Figure size 432x288 with 1 Axes>"
      ]
     },
     "metadata": {
      "needs_background": "light"
     },
     "output_type": "display_data"
    }
   ],
   "source": [
    "ax = trees_gpd.plot(markersize=1, color='green')\n",
    "drinking_water_gpd.plot(ax=ax, markersize=1, color='blue')\n",
    "excrement_bags_gpd.plot(ax=ax, markersize=1, color='red')\n",
    "ax.axis('off')"
   ]
  },
  {
   "cell_type": "markdown",
   "metadata": {},
   "source": [
    "### add GeoJSON styles"
   ]
  },
  {
   "cell_type": "code",
   "execution_count": 17,
   "metadata": {},
   "outputs": [],
   "source": [
    "trees_gpd[\"fill\"]= \"true\"\n",
    "trees_gpd[\"fillColor\"]= \"#9FE2BF\"\n",
    "trees_gpd[\"fillOpacity\"]= 0.6\n",
    "trees_gpd[\"stroke\"]= \"false\"\n",
    "trees_gpd[\"color\"]= \"#9FE2BF\"\n",
    "trees_gpd[\"opacity\"]= 1\n",
    "trees_gpd[\"weight\"]= 2\n",
    "trees_gpd[\"radius\"]= 10\n",
    "trees_gpd[\"title\"]= 'tree'\n",
    "trees_gpd[\"description\"]= trees_gpd.Tags"
   ]
  },
  {
   "cell_type": "code",
   "execution_count": 18,
   "metadata": {},
   "outputs": [],
   "source": [
    "drinking_water_gpd[\"fillColor\"]= \"#6495ED\"\n",
    "drinking_water_gpd[\"fill\"]= \"true\"\n",
    "drinking_water_gpd[\"fillOpacity\"]= 0.6\n",
    "drinking_water_gpd[\"stroke\"]= \"false\"\n",
    "drinking_water_gpd[\"color\"]= \"#6495ED\"\n",
    "drinking_water_gpd[\"opacity\"]= 1\n",
    "drinking_water_gpd[\"weight\"]= 2\n",
    "drinking_water_gpd[\"radius\"]= 10\n",
    "drinking_water_gpd[\"title\"]= 'public water fountains'\n",
    "drinking_water_gpd[\"description\"]= drinking_water_gpd.Tags"
   ]
  },
  {
   "cell_type": "code",
   "execution_count": 19,
   "metadata": {},
   "outputs": [],
   "source": [
    "excrement_bags_gpd[\"fill\"]= \"true\"\n",
    "excrement_bags_gpd[\"fillColor\"]= \"#FF7F50\"\n",
    "excrement_bags_gpd[\"fillOpacity\"]= 0.6\n",
    "excrement_bags_gpd[\"stroke\"]= \"false\"\n",
    "excrement_bags_gpd[\"color\"]= \"#FF7F50\"\n",
    "excrement_bags_gpd[\"opacity\"]= 1\n",
    "excrement_bags_gpd[\"weight\"]= 2\n",
    "excrement_bags_gpd[\"radius\"]= 20\n",
    "excrement_bags_gpd[\"title\"]= 'dog excrement bag dispenser'\n",
    "excrement_bags_gpd[\"description\"]= excrement_bags_gpd.Tags"
   ]
  },
  {
   "cell_type": "markdown",
   "metadata": {},
   "source": [
    "### combine all GeoDataFrames"
   ]
  },
  {
   "cell_type": "code",
   "execution_count": 20,
   "metadata": {},
   "outputs": [],
   "source": [
    "concatenated_gpd = pd.concat([trees_gpd, drinking_water_gpd, excrement_bags_gpd])\n",
    "concatenated_gpd = concatenated_gpd.drop('Tags', axis=1)"
   ]
  },
  {
   "cell_type": "markdown",
   "metadata": {},
   "source": [
    "### save GeoJSON file"
   ]
  },
  {
   "cell_type": "code",
   "execution_count": 21,
   "metadata": {},
   "outputs": [],
   "source": [
    "concatenated_gpd.to_file(geojson_output_path, driver=\"GeoJSON\")"
   ]
  },
  {
   "cell_type": "markdown",
   "metadata": {},
   "source": [
    "# Export as snapshot with inline GeoJSON"
   ]
  },
  {
   "cell_type": "code",
   "execution_count": 22,
   "metadata": {},
   "outputs": [],
   "source": [
    "with open(geojson_output_path) as json_file:\n",
    "    geojson_dict = json.load(json_file)"
   ]
  },
  {
   "cell_type": "code",
   "execution_count": 23,
   "metadata": {},
   "outputs": [],
   "source": [
    "long1, lat1, long2, lat2 = concatenated_gpd.unary_union.bounds\n",
    "bounds = [f\"geo:{min([lat1+0.05, lat2+0.05])},{min([long1+0.05, long2+0.05])}\",f\"geo:{max([lat1-0.05, lat2-0.05])},{max([long1-0.05, long2-0.05])}\"]"
   ]
  },
  {
   "cell_type": "code",
   "execution_count": 24,
   "metadata": {},
   "outputs": [],
   "source": [
    "snapshot = {\n",
    "    \"name\": \"Dog Friendly Locations\",\n",
    "    \"profile\": \"https://raw.githubusercontent.com/cividi/spatial-data-package-spec/main/schemas/snapshot.json\",\n",
    "    \"author\": \"Sven Brieden <sven@cividi.ch>\",\n",
    "    \"views\": [\n",
    "        {\n",
    "            \"name\": \"mapview\",\n",
    "            \"resources\": [\"geojson-resource\", \"mapbox-background\"],\n",
    "            \"specType\": \"gemeindescanSnapshot\",\n",
    "            \"spec\": {\n",
    "                \"title\": \"Dog Friendly Locations\",\n",
    "                \"description\": \"The most important spots in Zurich for a successful walk with your dog are shown.\",\n",
    "                \"bounds\": bounds,\n",
    "                \"legend\": [\n",
    "                    {\n",
    "                        \"label\": \"A tree\",\n",
    "                        \"shape\": \"circle\",\n",
    "                        \"size\": 1,\n",
    "                        \"primary\": \"true\",\n",
    "                        \"fillColor\": \"#9FE2BF\",\n",
    "                        \"fillOpacity\": 0.8,\n",
    "                        \"strokeColor\": \"#9FE2BF\",\n",
    "                        \"strokeOpacity\": 1,\n",
    "                        \"strokeWidth\": 2,\n",
    "                    },\n",
    "                    {\n",
    "                        \"label\": \"public water fountains \",\n",
    "                        \"shape\": \"circle\",\n",
    "                        \"size\": 1,\n",
    "                        \"primary\": \"true\",\n",
    "                        \"fillColor\": \"#6495ED\",\n",
    "                        \"fillOpacity\": 0.6,\n",
    "                        \"strokeColor\": \"#6495ED\",\n",
    "                        \"strokeOpacity\": 1,\n",
    "                        \"strokeWidth\": 2,\n",
    "                    },\n",
    "                    {\n",
    "                        \"label\": \"dog excrement bag dispenser \",\n",
    "                        \"shape\": \"circle\",\n",
    "                        \"size\": 1,\n",
    "                        \"primary\": \"true\",\n",
    "                        \"fillColor\": \"#FF7F50\",\n",
    "                        \"fillOpacity\": 0.6,\n",
    "                        \"strokeColor\": \"#FF7F50\",\n",
    "                        \"strokeOpacity\": 1,\n",
    "                        \"strokeWidth\": 2,\n",
    "                    },\n",
    "                ],\n",
    "            },\n",
    "        }\n",
    "    ],\n",
    "    \"resources\": [\n",
    "        {\n",
    "            \"name\": \"geojson-resource\",\n",
    "            \"mediatype\": \"application/vnd.simplestyle-extended\",\n",
    "            \"data\":  geojson_dict,\n",
    "        },\n",
    "        {\n",
    "            \"name\": \"mapbox-background\",\n",
    "            \"path\": \"mapbox://styles/gemeindescan/ck6rp249516tg1iqkmt48o4pz\",\n",
    "            \"mediatype\": \"application/vnd.mapbox-vector-tile\",\n",
    "        },\n",
    "    ],\n",
    "    \"sources\": [\n",
    "        {\n",
    "            \"title\": \"Karte: Mapbox, \\u00a9 OpenStreetMap\",\n",
    "            \"url\": \"https://www.openstreetmap.org/copyright\",\n",
    "        },\n",
    "    ],\n",
    "}"
   ]
  },
  {
   "cell_type": "code",
   "execution_count": 25,
   "metadata": {},
   "outputs": [],
   "source": [
    "with open(snapshot_output_path, 'w') as fp:\n",
    "    json.dump(snapshot, fp)"
   ]
  }
 ],
 "metadata": {
  "interpreter": {
   "hash": "7d6cc9271bde4d7690f6a795bbd4faef987ddc65d3af7cc3cbf6957737a057d4"
  },
  "kernelspec": {
   "display_name": "Python 3.9.7 64-bit ('base': conda)",
   "name": "python3"
  },
  "language_info": {
   "codemirror_mode": {
    "name": "ipython",
    "version": 3
   },
   "file_extension": ".py",
   "mimetype": "text/x-python",
   "name": "python",
   "nbconvert_exporter": "python",
   "pygments_lexer": "ipython3",
   "version": "3.9.7"
  },
  "orig_nbformat": 4
 },
 "nbformat": 4,
 "nbformat_minor": 2
}
